{
 "cells": [
  {
   "cell_type": "markdown",
   "metadata": {},
   "source": [
    "# Website A/B Testing - Lab\n",
    "\n",
    "## Introduction\n",
    "\n",
    "In this lab, you'll get another chance to practice your skills at conducting a full A/B test analysis. It will also be a chance to practice your data exploration and processing skills! The scenario you'll be investigating is data collected from the homepage of a music app page for audacity.\n",
    "\n",
    "## Objectives\n",
    "\n",
    "You will be able to:\n",
    "* Analyze the data from a website A/B test to draw relevant conclusions\n",
    "* Explore and analyze web action data"
   ]
  },
  {
   "cell_type": "markdown",
   "metadata": {},
   "source": [
    "## Exploratory Analysis\n",
    "\n",
    "Start by loading in the dataset stored in the file 'homepage_actions.csv'. Then conduct an exploratory analysis to get familiar with the data."
   ]
  },
  {
   "cell_type": "markdown",
   "metadata": {},
   "source": [
    "> Hints:\n",
    "    * Start investigating the id column:\n",
    "        * How many viewers also clicked?\n",
    "        * Are there any anomalies with the data; did anyone click who didn't view?\n",
    "        * Is there any overlap between the control and experiment groups? \n",
    "            * If so, how do you plan to account for this in your experimental design?"
   ]
  },
  {
   "cell_type": "code",
   "execution_count": 2,
   "metadata": {},
   "outputs": [
    {
     "name": "stdout",
     "output_type": "stream",
     "text": [
      "count      8188.000000\n",
      "mean     564699.749878\n",
      "std      219085.845672\n",
      "min      182988.000000\n",
      "25%      373637.500000\n",
      "50%      566840.500000\n",
      "75%      758078.000000\n",
      "max      937217.000000\n",
      "Name: id, dtype: float64\n"
     ]
    }
   ],
   "source": [
    "#import packages\n",
    "import pandas as pd\n",
    "from scipy.stats import ttest_ind\n",
    "import numpy as np\n",
    "from scipy.stats import t as tdist\n",
    "#load data\n",
    "df = pd.read_csv('homepage_actions.csv')\n",
    "#Explore the 'id' column\n",
    "print(df['id'].describe())"
   ]
  },
  {
   "cell_type": "code",
   "execution_count": 5,
   "metadata": {},
   "outputs": [
    {
     "data": {
      "text/plain": [
       "1860"
      ]
     },
     "execution_count": 5,
     "metadata": {},
     "output_type": "execute_result"
    }
   ],
   "source": [
    "# Check how many viewers also clicked\n",
    "viewers = df[df['action'] == 'view']['id'].unique()\n",
    "clickers = df[df['action'] == 'click']['id'].unique()\n",
    "# Number of viewers who also clicked\n",
    "viewers_clicked = len(set(viewers).intersection(clickers))\n",
    "viewers_clicked"
   ]
  },
  {
   "cell_type": "code",
   "execution_count": 6,
   "metadata": {},
   "outputs": [
    {
     "data": {
      "text/plain": [
       "0"
      ]
     },
     "execution_count": 6,
     "metadata": {},
     "output_type": "execute_result"
    }
   ],
   "source": [
    "# Check for anomalies: Did anyone click who didn't view?\n",
    "clickers_without_view = len(set(clickers) - set(viewers))\n",
    "clickers_without_view"
   ]
  },
  {
   "cell_type": "code",
   "execution_count": 11,
   "metadata": {},
   "outputs": [
    {
     "data": {
      "text/plain": [
       "0"
      ]
     },
     "execution_count": 11,
     "metadata": {},
     "output_type": "execute_result"
    }
   ],
   "source": [
    "# Check for overlap between control and experiment groups\n",
    "control_group = df[df['group'] == 'control']['id'].unique()\n",
    "experiment_group = df[df['group'] == 'experiment']['id'].unique()\n",
    "# Number of users in both control and experiment groups\n",
    "overlap_users = len(set(control_group).intersection(experiment_group))\n",
    "overlap_users"
   ]
  },
  {
   "cell_type": "markdown",
   "metadata": {},
   "source": [
    "## Conduct a Statistical Test\n",
    "\n",
    "Conduct a statistical test to determine whether the experimental homepage was more effective than that of the control group."
   ]
  },
  {
   "cell_type": "code",
   "execution_count": 12,
   "metadata": {},
   "outputs": [],
   "source": [
    "# Calculate the click-through rate (CTR) for each group\n",
    "ctr_control = df[(df['group'] == 'control') & (df['action'] == 'click')]['id'].nunique() / len(control_group)\n",
    "ctr_experiment = df[(df['group'] == 'experiment') & (df['action'] == 'click')]['id'].nunique() / len(experiment_group)"
   ]
  },
  {
   "cell_type": "code",
   "execution_count": 13,
   "metadata": {},
   "outputs": [
    {
     "name": "stdout",
     "output_type": "stream",
     "text": [
      "Click-Through Rate (CTR) - Control Group: 0.2797118847539016\n",
      "Click-Through Rate (CTR) - Experiment Group: 0.3097463284379172\n",
      "T-statistic: -0.5827851039715325\n",
      "P-value: 0.5601087216132623\n",
      "Fail to reject the null hypothesis. There is no significant difference between the groups.\n"
     ]
    }
   ],
   "source": [
    "# Perform a t-test\n",
    "t_stat, p_value = ttest_ind(\n",
    "    df[(df['group'] == 'control') & (df['action'] == 'click')]['id'].unique(),\n",
    "    df[(df['group'] == 'experiment') & (df['action'] == 'click')]['id'].unique(),\n",
    "    equal_var=False  # Welch's t-test for unequal variances\n",
    ")\n",
    "# Display results\n",
    "print(f\"Click-Through Rate (CTR) - Control Group: {ctr_control}\")\n",
    "print(f\"Click-Through Rate (CTR) - Experiment Group: {ctr_experiment}\")\n",
    "print(f\"T-statistic: {t_stat}\")\n",
    "print(f\"P-value: {p_value}\")\n",
    "\n",
    "# Check for statistical significance\n",
    "alpha = 0.05\n",
    "if p_value < alpha:\n",
    "    print(\"Reject the null hypothesis. The experimental homepage is more effective than the control group.\")\n",
    "else:\n",
    "    print(\"Fail to reject the null hypothesis. There is no significant difference between the groups.\")"
   ]
  },
  {
   "cell_type": "markdown",
   "metadata": {},
   "source": [
    "## Verifying Results\n",
    "\n",
    "One sensible formulation of the data to answer the hypothesis test above would be to create a binary variable representing each individual in the experiment and control group. This binary variable would represent whether or not that individual clicked on the homepage; 1 for they did and 0 if they did not. \n",
    "\n",
    "The variance for the number of successes in a sample of a binomial variable with n observations is given by:\n",
    "\n",
    "## $n\\bullet p (1-p)$\n",
    "\n",
    "Given this, perform 3 steps to verify the results of your statistical test:\n",
    "1. Calculate the expected number of clicks for the experiment group, if it had the same click-through rate as that of the control group. \n",
    "2. Calculate the number of standard deviations that the actual number of clicks was from this estimate. \n",
    "3. Finally, calculate a p-value using the normal distribution based on this z-score."
   ]
  },
  {
   "cell_type": "markdown",
   "metadata": {},
   "source": [
    "### Step 1:\n",
    "Calculate the expected number of clicks for the experiment group, if it had the same click-through rate as that of the control group. "
   ]
  },
  {
   "cell_type": "code",
   "execution_count": 14,
   "metadata": {},
   "outputs": [
    {
     "name": "stdout",
     "output_type": "stream",
     "text": [
      "Overall Click-Through Rate (CTR): 0.2939317319848293\n",
      "Expected Clicks in Experiment Group: 880.6194690265486\n"
     ]
    }
   ],
   "source": [
    "# Calculate the overall click-through rate (CTR)\n",
    "overall_ctr = df[df['action'] == 'click']['id'].nunique() / df['id'].nunique()\n",
    "# Calculate the expected number of clicks for the experiment group\n",
    "expected_clicks_experiment = len(experiment_group) * overall_ctr\n",
    "print(f\"Overall Click-Through Rate (CTR): {overall_ctr}\")\n",
    "print(f\"Expected Clicks in Experiment Group: {expected_clicks_experiment}\")"
   ]
  },
  {
   "cell_type": "markdown",
   "metadata": {},
   "source": [
    "### Step 2:\n",
    "Calculate the number of standard deviations that the actual number of clicks was from this estimate."
   ]
  },
  {
   "cell_type": "code",
   "execution_count": 16,
   "metadata": {},
   "outputs": [
    {
     "data": {
      "text/plain": [
       "1.9001261506527332"
      ]
     },
     "execution_count": 16,
     "metadata": {},
     "output_type": "execute_result"
    }
   ],
   "source": [
    "import math\n",
    "experiment_clicks = df[(df['group'] == 'experiment') & (df['action'] == 'click')]['id'].nunique()\n",
    "\n",
    "# Calculate the standard deviation of a binomial distribution\n",
    "std_dev_binomial = math.sqrt(len(experiment_group) * overall_ctr * (1 - overall_ctr))\n",
    "\n",
    "# Calculate the number of standard deviations\n",
    "num_std_dev = (experiment_clicks - expected_clicks_experiment) / std_dev_binomial\n",
    "num_std_dev"
   ]
  },
  {
   "cell_type": "markdown",
   "metadata": {},
   "source": [
    "### Step 3: \n",
    "Finally, calculate a p-value using the normal distribution based on this z-score."
   ]
  },
  {
   "cell_type": "code",
   "execution_count": 18,
   "metadata": {},
   "outputs": [
    {
     "data": {
      "text/plain": [
       "0.9712917166699202"
      ]
     },
     "execution_count": 18,
     "metadata": {},
     "output_type": "execute_result"
    }
   ],
   "source": [
    "from scipy.stats import norm\n",
    "\n",
    "# Calculate the p-value using the cumulative distribution function (CDF)\n",
    "p_value_normal = norm.cdf(num_std_dev)\n",
    "\n",
    "p_value_normal"
   ]
  },
  {
   "cell_type": "markdown",
   "metadata": {},
   "source": [
    "### Analysis:\n",
    "\n",
    "Does this result roughly match that of the previous statistical test?\n",
    "\n",
    "> Comment: **Your analysis here**"
   ]
  },
  {
   "cell_type": "markdown",
   "metadata": {},
   "source": [
    "## Summary\n",
    "\n",
    "In this lab, you continued to get more practice designing and conducting AB tests. This required additional work preprocessing and formulating the initial problem in a suitable manner. Additionally, you also saw how to verify results, strengthening your knowledge of binomial variables, and reviewing initial statistical concepts of the central limit theorem, standard deviation, z-scores, and their accompanying p-values."
   ]
  }
 ],
 "metadata": {
  "kernelspec": {
   "display_name": "Python 3 (ipykernel)",
   "language": "python",
   "name": "python3"
  },
  "language_info": {
   "codemirror_mode": {
    "name": "ipython",
    "version": 3
   },
   "file_extension": ".py",
   "mimetype": "text/x-python",
   "name": "python",
   "nbconvert_exporter": "python",
   "pygments_lexer": "ipython3",
   "version": "3.10.13"
  }
 },
 "nbformat": 4,
 "nbformat_minor": 2
}
